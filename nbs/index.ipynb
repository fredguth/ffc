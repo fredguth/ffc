{
 "cells": [
  {
   "cell_type": "code",
   "execution_count": null,
   "metadata": {},
   "outputs": [],
   "source": [
    "#| hide\n",
    "# from ffc.core import *"
   ]
  },
  {
   "cell_type": "markdown",
   "metadata": {},
   "source": [
    "# The FFC lib\n",
    "\n",
    "> My personal \"cookbook\" of fast.ai recipes"
   ]
  },
  {
   "cell_type": "markdown",
   "metadata": {},
   "source": [
    "## What is this project?\n",
    "\n",
    "**FFC** (Fred's fastai cookbook) is not your usual library.  It does not intend to fill a gap in the development ecosystem, its purpose is to fill a gap in my own brain.\n",
    "\n",
    "Inspired by Zach Muller's [Walk with fastai](walkwithfastai.com), **FFC** aims to collect notebooks, snippets, ideas and learnings of my personal [fastai journey](/blog)."
   ]
  },
  {
   "cell_type": "markdown",
   "metadata": {},
   "source": [
    "## Install"
   ]
  },
  {
   "cell_type": "markdown",
   "metadata": {},
   "source": [
    "```sh\n",
    "pip install -e '.[dev]'\n",
    "```"
   ]
  },
  {
   "cell_type": "markdown",
   "metadata": {},
   "source": [
    "## Project structure"
   ]
  },
  {
   "cell_type": "markdown",
   "metadata": {},
   "source": [
    "This project is built on [nbdev](nbdev.fast.ai). The **nbs** folder is where the content is produced:\n",
    "\n",
    "* **nbs/(root)**: nbdev and quarto config files\n",
    "  * custom.css: my tweaks on the default *cosmo* website theme\n",
    "* **nbs/blog**: blog content\n",
    "<!-- * **nbs/course22**: My personal notes on Practical Deep Learning for Coders 2022 lessons  -->\n",
    " "
   ]
  },
  {
   "cell_type": "markdown",
   "metadata": {},
   "source": [
    "Nbdev automatically creates the **proc**, **doc** and **ffc** folders.\n",
    "\n"
   ]
  },
  {
   "cell_type": "markdown",
   "metadata": {},
   "source": []
  }
 ],
 "metadata": {
  "kernelspec": {
   "display_name": "Python 3.10.6 64-bit",
   "language": "python",
   "name": "python3"
  }
 },
 "nbformat": 4,
 "nbformat_minor": 4
}
